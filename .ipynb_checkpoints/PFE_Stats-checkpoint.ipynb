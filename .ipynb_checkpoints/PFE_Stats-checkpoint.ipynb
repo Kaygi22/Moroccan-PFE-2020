{
 "cells": [
  {
   "cell_type": "code",
   "execution_count": 1,
   "metadata": {},
   "outputs": [],
   "source": [
    "import pandas as pd\n",
    "import csv\n",
    "import os\n",
    "import re   \n",
    "import nltk\n",
    "from nltk.corpus import stopwords"
   ]
  },
  {
   "cell_type": "code",
   "execution_count": 2,
   "metadata": {},
   "outputs": [],
   "source": [
    "#Loading data\n",
    "it_data = pd.read_csv(\"data/QueryResults.csv\")\n",
    "it_data = it_data.drop('Count', 1)\n",
    "stopWords_fr = set(stopwords.words('french'))\n",
    "f = open(\"offers/1.txt\", \"r\")\n",
    "annonce = f.read()\n",
    "tokens = tokens = nltk.word_tokenize(annonce)\n",
    "wordsFiltered = []\n",
    "for w in tokens:\n",
    "    if w not in stopWords_fr:\n",
    "        wordsFiltered.append(w)"
   ]
  },
  {
   "cell_type": "code",
   "execution_count": 6,
   "metadata": {},
   "outputs": [],
   "source": [
    "#Check if a word is a technology\n",
    "def check_word_technology(tech):\n",
    "    word = get_cleaned_hashtags(tech)\n",
    "    tech = tech.lower()\n",
    "    if tech in it_data['TagName'].values:\n",
    "        return True\n",
    "    else:\n",
    "        return False\n",
    "\n",
    "#get the name of the company\n",
    "def extract_company_name(email):\n",
    "    email = email.split('@')\n",
    "    company_website = email[1].split('.')\n",
    "    return company_website[0]\n",
    "\n",
    "#get the list of all included emails in the offer\n",
    "def get_emails_list(text):\n",
    "    return re.findall('\\S+@\\S+', text) \n",
    "\n",
    "#clean all hashtags\n",
    "def get_cleaned_hashtags(text):\n",
    "    hashtags = re.findall('#\\S+', text)\n",
    "    cleaned = []\n",
    "    for hashtag in hashtags:\n",
    "        curr = hashtag[1:]\n",
    "        cleaned.append(curr)\n",
    "    return cleaned"
   ]
  },
  {
   "cell_type": "code",
   "execution_count": 11,
   "metadata": {},
   "outputs": [
    {
     "name": "stdout",
     "output_type": "stream",
     "text": [
      "-------------Technologies\n",
      "\n",
      "{'dotnet', 'stage', 'post', 'Bonjour'}\n",
      "--------------company: \n",
      "\n",
      "gfimaroc\n"
     ]
    }
   ],
   "source": [
    "print(\"-------------Technologies\\n\")\n",
    "technologies = set()\n",
    "for word in wordsFiltered:\n",
    "    if check_word_technology(word):\n",
    "        technologies.add(word)\n",
    "\n",
    "print(technologies)\n",
    "\n",
    "   \n",
    "print(\"--------------company: \\n\")\n",
    "emails = get_emails_list(annonce)\n",
    "emails = get_emails_list(annonce)\n",
    "for email in emails:\n",
    "    print(extract_company_name(email))"
   ]
  },
  {
   "cell_type": "code",
   "execution_count": null,
   "metadata": {},
   "outputs": [],
   "source": []
  }
 ],
 "metadata": {
  "kernelspec": {
   "display_name": "Python 3",
   "language": "python",
   "name": "python3"
  },
  "language_info": {
   "codemirror_mode": {
    "name": "ipython",
    "version": 3
   },
   "file_extension": ".py",
   "mimetype": "text/x-python",
   "name": "python",
   "nbconvert_exporter": "python",
   "pygments_lexer": "ipython3",
   "version": "3.7.0"
  }
 },
 "nbformat": 4,
 "nbformat_minor": 2
}
