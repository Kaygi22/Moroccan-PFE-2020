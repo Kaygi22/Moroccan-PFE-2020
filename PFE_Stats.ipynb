{
 "cells": [
  {
   "cell_type": "markdown",
   "metadata": {},
   "source": [
    "## Moroccan IT PFE 2020 Analysis\n",
    "\n",
    "This work was done by Kaygi22 <br/>\n",
    "Data was gathered by: GI3 ENSA Al Hoceima <br/>\n",
    "Feel free to share, copy, and modify the source code. "
   ]
  },
  {
   "cell_type": "code",
   "execution_count": 1,
   "metadata": {},
   "outputs": [
    {
     "data": {
      "text/plain": [
       "\"nltk.download('stopwords')\\nnltk.download('punkt')\""
      ]
     },
     "execution_count": 1,
     "metadata": {},
     "output_type": "execute_result"
    }
   ],
   "source": [
    "import pandas as pd\n",
    "import csv\n",
    "import os\n",
    "import re   \n",
    "import nltk\n",
    "from nltk.corpus import stopwords\n",
    "\n",
    "#If you don't have stopwords and punkt from nltk, run these commands from the console or from jupyter\n",
    "\"\"\"nltk.download('stopwords')\n",
    "nltk.download('punkt')\"\"\""
   ]
  },
  {
   "cell_type": "code",
   "execution_count": 6,
   "metadata": {},
   "outputs": [],
   "source": [
    "#Loading data\n",
    "it_data = pd.read_csv(\"data/QueryResults.csv\")\n",
    "#We drop the column count, because we won't use it \n",
    "it_data = it_data.drop('Count', 1)\n",
    "#To imprive the efficiency of the result, we only chose the first 2000 frequent technolgy in stackoverflow\n",
    "#Because some normal words can be considered as technologies like focus, la, this etc. \n",
    "it_data = it_data.head(2500)\n",
    "#Because the majority of the offers are written in french words, we picked french stop words to eliminate \n",
    "#during our NLP treatment \n",
    "stopWords_fr = set(stopwords.words('french'))"
   ]
  },
  {
   "cell_type": "code",
   "execution_count": 7,
   "metadata": {},
   "outputs": [],
   "source": [
    "#Check if a word is a technology\n",
    "def check_word_technology(tech):\n",
    "    word = get_cleaned_hashtags(tech)\n",
    "    tech = tech.lower()\n",
    "    if tech in it_data['TagName'].values:\n",
    "        return True\n",
    "    else:\n",
    "        return False\n",
    "\n",
    "#get the name of the company\n",
    "#the only way to extract the name of the company, is from email contact\n",
    "def extract_company_name(email):\n",
    "    email = email.split('@')\n",
    "    company_website = email[1].split('.')\n",
    "    return company_website[0]\n",
    "\n",
    "#get the list of all included emails in the offer\n",
    "def get_emails_list(text):\n",
    "    return re.findall('\\S+@\\S+', text) \n",
    "\n",
    "#clean all hashtags\n",
    "#Some texts contain technologies as hashtags\n",
    "def get_cleaned_hashtags(text):\n",
    "    hashtags = re.findall('#\\S+', text)\n",
    "    cleaned = []\n",
    "    for hashtag in hashtags:\n",
    "        curr = hashtag[1:]\n",
    "        cleaned.append(curr)\n",
    "    return cleaned\n",
    "\n",
    "def contains_word(s, w):\n",
    "    return f' {w} ' in f' {s} '"
   ]
  },
  {
   "cell_type": "markdown",
   "metadata": {},
   "source": [
    "## Exploring the files"
   ]
  },
  {
   "cell_type": "code",
   "execution_count": 9,
   "metadata": {},
   "outputs": [
    {
     "data": {
      "text/plain": [
       "110"
      ]
     },
     "execution_count": 9,
     "metadata": {},
     "output_type": "execute_result"
    }
   ],
   "source": [
    "files = []\n",
    "path = \"offers\"\n",
    "#Creating a list of files\n",
    "for r, d, f in os.walk(path):\n",
    "    for file in f:\n",
    "            files.append(os.path.join(r, file))\n",
    "len(files)"
   ]
  },
  {
   "cell_type": "code",
   "execution_count": 10,
   "metadata": {},
   "outputs": [],
   "source": [
    "tech_comp = pd.DataFrame(columns=['Technology','Company'])\n",
    "\n",
    "for file in files:\n",
    "    f = open(file, \"r\", encoding=\"latin-1\")\n",
    "    annonce = f.read()\n",
    "    \n",
    "    #Extracting company names\n",
    "    \n",
    "    emails = get_emails_list(annonce)\n",
    "    email_list = set()\n",
    "    for email in emails:\n",
    "        email_list.add(extract_company_name(email))\n",
    "    \n",
    "    \n",
    "    if len(email_list) == 0:\n",
    "        email = \"Unknown\"\n",
    "    else:\n",
    "        email_list = sorted(email_list)\n",
    "        email = email_list[0]\n",
    "        \n",
    "        \n",
    "    #Extracting Technologies - Removing punctuation - Removing French stopwrds considered as technologies\n",
    "    \n",
    "    annonce = annonce.lower()\n",
    "    tokens = nltk.word_tokenize(annonce)\n",
    "    annonce = re.sub(r'[^\\w\\s]','',annonce)\n",
    "    technologies = set()        \n",
    "    for word in it_data['TagName'].values:\n",
    "        if word not in stopWords_fr and contains_word(annonce, word):\n",
    "            technologies.add(word)\n",
    "            \n",
    "    for techno in technologies:\n",
    "        #print(email, techno)\n",
    "        tech_comp = tech_comp.append({'Technology': techno,'Company':email}, ignore_index=True)\n",
    "\n"
   ]
  },
  {
   "cell_type": "code",
   "execution_count": 54,
   "metadata": {},
   "outputs": [],
   "source": [
    "\"\"\"\n",
    "Why do we need to extract company emails? \n",
    "The only way to extract a company name is from its emmail. It's true, that won't be always helpful, but for now,\n",
    "especially we don't have a dictionary for company names where we can refer to, our only source is their contact email\n",
    "that's why, and while gathering the data, I had to add a fake contact email like: contact@company.com, so I can\n",
    "process the company name in my algorithms\n",
    "\"\"\"\n",
    "company_emails = []\n",
    "for file in files:\n",
    "    f = open(file, \"r\", encoding=\"latin-1\")\n",
    "    annonce = f.read()\n",
    "    emails = get_emails_list(annonce)\n",
    "    email_list = set()\n",
    "    for email in emails:\n",
    "        email_list.add(extract_company_name(email))\n",
    "    sorted(email_list)\n",
    "    company_emails.append(email_list)\n",
    "    \n",
    "for lst in company_emails:\n",
    "    sorted(lst)\n",
    "    if len(lst) == 2:\n",
    "        lst = sorted(lst)\n",
    "        #print(lst[0])"
   ]
  },
  {
   "cell_type": "markdown",
   "metadata": {},
   "source": [
    "## Plotting results"
   ]
  },
  {
   "cell_type": "code",
   "execution_count": null,
   "metadata": {},
   "outputs": [],
   "source": [
    "sr = tech_comp['Technology'].value_counts()\n",
    "tech_occurences = sr.to_frame()\n",
    "keys = []\n",
    "values = []\n",
    "for index, row in tech_occurences.iterrows():\n",
    "    print(row['Technology'])\n",
    "    keys.append(index)\n",
    "    values.append(row['Technology'])\n",
    "#We create our dictionary for ploting word cloud    \n",
    "dic = dict(zip(keys, values))"
   ]
  },
  {
   "cell_type": "code",
   "execution_count": null,
   "metadata": {},
   "outputs": [],
   "source": [
    "from wordcloud import WordCloud\n",
    "import matplotlib.pyplot as plt\n",
    "plt.rcParams.update({'font.size': 20})\n",
    "\n",
    "wc = WordCloud(background_color=\"white\",\n",
    "               width=2000,\n",
    "               height=1000, \n",
    "               max_words=100,\n",
    "               relative_scaling=0.5,\n",
    "               normalize_plurals=False,\n",
    "              ).generate_from_frequencies(dic)\n",
    "#wc.random_color_func()\n",
    "plt.figure( figsize=(20,10) )\n",
    "plt.imshow(wc)"
   ]
  },
  {
   "cell_type": "code",
   "execution_count": null,
   "metadata": {},
   "outputs": [],
   "source": [
    "ignore = ['web','mobile','cloud', 'transformation', 'product', 'unique', 'email', 'performance', 'this']\n",
    "fig = plt.figure(figsize=(20, 10))\n",
    "ax = fig.add_axes([0,0,1,1])\n",
    "p_techs = []\n",
    "p_occurences = []\n",
    "\n",
    "\n",
    "limit = 10\n",
    "counter = 0\n",
    "for key, value in dic.items():\n",
    "    #print(key, value)\n",
    "    if key not in ignore:\n",
    "        #print(key)\n",
    "        p_techs.append(key)\n",
    "        #print(dic[key])\n",
    "        p_occurences.append(dic[key])\n",
    "        counter = counter+1\n",
    "    if counter == limit:\n",
    "        break    \n",
    "\n",
    "ax.bar(p_techs,p_occurences)\n",
    "plt.show()"
   ]
  },
  {
   "cell_type": "code",
   "execution_count": null,
   "metadata": {},
   "outputs": [],
   "source": [
    "res = 0\n",
    "for val in tech_occurences['Technology']:\n",
    "    res = res + val\n",
    "res"
   ]
  },
  {
   "cell_type": "markdown",
   "metadata": {},
   "source": [
    "## FrontEnd"
   ]
  },
  {
   "cell_type": "code",
   "execution_count": 56,
   "metadata": {},
   "outputs": [],
   "source": [
    "res_react = tech_comp[tech_comp['Technology'] == \"reactjs\"].count()[0]\n",
    "res_angular = tech_comp[tech_comp['Technology'] == \"angular\"].count()[0] + tech_comp[tech_comp['Technology'] == \"angularjs\"].count()[0]\n",
    "res_js = tech_comp[tech_comp['Technology'] == \"javascript\"].count()[0]"
   ]
  },
  {
   "cell_type": "code",
   "execution_count": 57,
   "metadata": {},
   "outputs": [
    {
     "data": {
      "image/png": "[encoded data removed]",
      "text/plain": [
       "<Figure size 360x720 with 1 Axes>"
      ]
     },
     "metadata": {
      "needs_background": "light"
     },
     "output_type": "display_data"
    }
   ],
   "source": [
    "import matplotlib.pyplot as plt\n",
    "plt.rcParams.update({'font.size': 20})\n",
    "\n",
    "\n",
    "fig = plt.figure(figsize=(5, 10))\n",
    "ax = fig.add_axes([0,0,1,1])\n",
    "\n",
    "#technolog = ['C', 'C++', 'Java', 'Python', 'PHP']\n",
    "#students = [23,17,35,29,12]\n",
    "ax.bar(['Javascript', 'AngularJS', 'ReactJS'],[res_js, res_angular, res_react], width=0.7)\n",
    "plt.show()"
   ]
  },
  {
   "cell_type": "markdown",
   "metadata": {},
   "source": [
    "## Data fields"
   ]
  },
  {
   "cell_type": "code",
   "execution_count": 45,
   "metadata": {},
   "outputs": [],
   "source": [
    "ml = tech_comp[tech_comp['Technology'] == \"machine learning\"].count()[0]\n",
    "ds = tech_comp[tech_comp['Technology'] == \"data science\"].count()[0]\n",
    "blockchain = tech_comp[tech_comp['Technology'] == \"blockchain\"].count()[0]\n",
    "python = tech_comp[tech_comp['Technology'] == \"python\"].count()[0]\n",
    "r = tech_comp[tech_comp['Technology'] == \"r\"].count()[0]\n",
    "tableau = tech_comp[tech_comp['Technology'] == \"tableau\"].count()[0]\n",
    "powerbi = tech_comp[tech_comp['Technology'] == \"powerbi\"].count()[0]\n",
    "hadoop = tech_comp[tech_comp['Technology'] == \"hadoop\"].count()[0]\n",
    "sql = tech_comp[tech_comp['Technology'] == \"sql\"].count()[0]"
   ]
  },
  {
   "cell_type": "code",
   "execution_count": 58,
   "metadata": {},
   "outputs": [
    {
     "data": {
      "image/png": "[encoded data removed]",
      "text/plain": [
       "<Figure size 1440x720 with 1 Axes>"
      ]
     },
     "metadata": {
      "needs_background": "light"
     },
     "output_type": "display_data"
    },
    {
     "data": {
      "text/plain": [
       "(None,)"
      ]
     },
     "execution_count": 58,
     "metadata": {},
     "output_type": "execute_result"
    }
   ],
   "source": [
    "plt.rcParams.update({'font.size': 20})\n",
    "\n",
    "\n",
    "fig = plt.figure(figsize=(20, 10))\n",
    "ax = fig.add_axes([0,0,1,1])\n",
    "\n",
    "\n",
    "ax.bar(['SQL','ML', 'Python', 'DS', 'Blockchain', 'Tableau', 'PowerBI', 'Hadoop', 'R'],\n",
    "       [sql, ml, python, ds, blockchain, tableau, powerbi, hadoop, r], \n",
    "       width=0.7,\n",
    "      color=\"orange\")\n",
    "plt.show(),"
   ]
  },
  {
   "cell_type": "markdown",
   "metadata": {},
   "source": [
    "## Feel free to explore the company data by yourself\n",
    "you can play with data and explore what are the companies the have high demand of such a technology <br/>\n",
    "what are the companies that mention many technologies in their calls, etc"
   ]
  },
  {
   "cell_type": "code",
   "execution_count": 53,
   "metadata": {},
   "outputs": [],
   "source": [
    "#You can use this dataframe\n",
    "#tech_comp['Company'].value_counts()"
   ]
  },
  {
   "cell_type": "code",
   "execution_count": null,
   "metadata": {},
   "outputs": [],
   "source": []
  }
 ],
 "metadata": {
  "kernelspec": {
   "display_name": "Python 3",
   "language": "python",
   "name": "python3"
  },
  "language_info": {
   "codemirror_mode": {
    "name": "ipython",
    "version": 3
   },
   "file_extension": ".py",
   "mimetype": "text/x-python",
   "name": "python",
   "nbconvert_exporter": "python",
   "pygments_lexer": "ipython3",
   "version": "3.7.0"
  }
 },
 "nbformat": 4,
 "nbformat_minor": 2
}
